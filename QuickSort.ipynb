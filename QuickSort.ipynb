{
  "nbformat": 4,
  "nbformat_minor": 0,
  "metadata": {
    "colab": {
      "name": "QuickSort.ipynb",
      "provenance": [],
      "authorship_tag": "ABX9TyPYdUvQbL9OmKjxIx8vaVfA",
      "include_colab_link": true
    },
    "kernelspec": {
      "name": "python3",
      "display_name": "Python 3"
    },
    "language_info": {
      "name": "python"
    }
  },
  "cells": [
    {
      "cell_type": "markdown",
      "metadata": {
        "id": "view-in-github",
        "colab_type": "text"
      },
      "source": [
        "<a href=\"https://colab.research.google.com/github/Chung-god/Algorithm/blob/master/QuickSort.ipynb\" target=\"_parent\"><img src=\"https://colab.research.google.com/assets/colab-badge.svg\" alt=\"Open In Colab\"/></a>"
      ]
    },
    {
      "cell_type": "code",
      "metadata": {
        "id": "DdvWXRuGVHlo"
      },
      "source": [
        "from random import randint\n",
        "import csv\n",
        "import time"
      ],
      "execution_count": 2,
      "outputs": []
    },
    {
      "cell_type": "code",
      "metadata": {
        "id": "xHHT6iUpWtjN"
      },
      "source": [
        "f = open('random.csv', 'w', encoding='utf-8')\n",
        "wr = csv.writer(f)\n",
        "for i in range(0, 1000000):\n",
        "  num = randint(1,10000)\n",
        "  wr.writerow([num])\n",
        "f.close()"
      ],
      "execution_count": 3,
      "outputs": []
    },
    {
      "cell_type": "code",
      "metadata": {
        "id": "Nv-JRH79dkAv"
      },
      "source": [
        "f = open('asc.csv', 'w', encoding='utf-8')\n",
        "wr = csv.writer(f)\n",
        "for i in range(0, 1000000):\n",
        "  wr.writerow([i])\n",
        "f.close()"
      ],
      "execution_count": 4,
      "outputs": []
    },
    {
      "cell_type": "code",
      "metadata": {
        "id": "HJAlYTMzeQO3"
      },
      "source": [
        "f = open('des.csv', 'w', encoding='utf-8')\n",
        "wr = csv.writer(f)\n",
        "for i in range(0, 1000000):\n",
        "  wr.writerow([1000000 - i])\n",
        "f.close()"
      ],
      "execution_count": 5,
      "outputs": []
    },
    {
      "cell_type": "code",
      "metadata": {
        "id": "5uyMOirNelTx"
      },
      "source": [
        "\n",
        "def quick_sort(arr):\n",
        "  if len(arr) <= 1: return arr\n",
        "  pivot = arr[len(arr)//2]\n",
        "  less_arr, equal_arr, big_arr = [], [], []\n",
        "  for i in arr:\n",
        "    if i < pivot :\n",
        "      less_arr.append(i)\n",
        "    elif i > pivot :\n",
        "      big_arr.append(i)\n",
        "    else:\n",
        "      equal_arr.append(i)\n",
        "  return quick_sort(less_arr) + equal_arr + quick_sort(big_arr)\n",
        "\n"
      ],
      "execution_count": 7,
      "outputs": []
    },
    {
      "cell_type": "code",
      "metadata": {
        "colab": {
          "base_uri": "https://localhost:8080/"
        },
        "id": "3Y_sMZcwYgGF",
        "outputId": "86a1d37e-e034-4865-9437-fb0716a2512c"
      },
      "source": [
        "arr0 = []\n",
        "f = open('random.csv', 'r', encoding='utf-8')\n",
        "rdr = csv.reader(f)\n",
        "for line in rdr:\n",
        "  arr0.append(line[0])\n",
        "f.close()\n",
        "\n",
        "start = time.time()\n",
        "quick_sort(arr0)\n",
        "print(\"my Quick Sort time : \", time.time() - start)\n",
        "\n",
        "\n"
      ],
      "execution_count": 10,
      "outputs": [
        {
          "output_type": "stream",
          "text": [
            "my Quick Sort time :  4.987808465957642\n"
          ],
          "name": "stdout"
        }
      ]
    },
    {
      "cell_type": "code",
      "metadata": {
        "colab": {
          "base_uri": "https://localhost:8080/"
        },
        "id": "fLKHbgFgdCqI",
        "outputId": "57f9d998-9384-47c2-e037-26a58fd2ecb6"
      },
      "source": [
        "start = time.time()\n",
        "arr0.sort()\n",
        "print(\"Sort() time : \", time.time() - start)"
      ],
      "execution_count": 12,
      "outputs": [
        {
          "output_type": "stream",
          "text": [
            "Sort() time :  0.5315048694610596\n"
          ],
          "name": "stdout"
        }
      ]
    },
    {
      "cell_type": "code",
      "metadata": {
        "colab": {
          "base_uri": "https://localhost:8080/"
        },
        "id": "JwaDqlGWa0ob",
        "outputId": "3bb2f546-597f-492a-a59e-d51dc2c2e5cb"
      },
      "source": [
        "arr1 = []\n",
        "f = open('asc.csv', 'r', encoding='utf-8')\n",
        "rdr = csv.reader(f)\n",
        "for line in rdr:\n",
        "  arr1.append(line[0])\n",
        "f.close()\n",
        "\n",
        "start = time.time()\n",
        "quick_sort(arr1)\n",
        "print(\"time :\", time.time() - start)\n"
      ],
      "execution_count": 11,
      "outputs": [
        {
          "output_type": "stream",
          "text": [
            "time : 3.6360607147216797\n"
          ],
          "name": "stdout"
        }
      ]
    },
    {
      "cell_type": "code",
      "metadata": {
        "colab": {
          "base_uri": "https://localhost:8080/"
        },
        "id": "RGrs6dqDdHWk",
        "outputId": "c77f3d74-436b-4d79-c6e2-62b1862f15d4"
      },
      "source": [
        "start = time.time()\n",
        "arr1.sort()\n",
        "print(\"Sort() time : \", time.time() - start)"
      ],
      "execution_count": 13,
      "outputs": [
        {
          "output_type": "stream",
          "text": [
            "Sort() time :  0.03494381904602051\n"
          ],
          "name": "stdout"
        }
      ]
    },
    {
      "cell_type": "code",
      "metadata": {
        "colab": {
          "base_uri": "https://localhost:8080/"
        },
        "id": "dmwyh5K-a4RA",
        "outputId": "6c88de70-bdc3-47e3-c75d-94ed841dc86b"
      },
      "source": [
        "arr2 = []\n",
        "f = open('des.csv', 'r', encoding='utf-8')\n",
        "rdr = csv.reader(f)\n",
        "for line in rdr:\n",
        "  arr2.append(line[0])\n",
        "f.close()\n",
        "\n",
        "start = time.time()\n",
        "quick_sort(arr2)\n",
        "print(\"time :\", time.time() - start)\n",
        "\n"
      ],
      "execution_count": 14,
      "outputs": [
        {
          "output_type": "stream",
          "text": [
            "time : 3.6717629432678223\n"
          ],
          "name": "stdout"
        }
      ]
    },
    {
      "cell_type": "code",
      "metadata": {
        "colab": {
          "base_uri": "https://localhost:8080/"
        },
        "id": "Lc26GAG1a_k2",
        "outputId": "bf31935b-144d-434b-b3ca-56a512146870"
      },
      "source": [
        "start = time.time()\n",
        "arr2.sort()\n",
        "print(\"Sort() time : \", time.time() - start)"
      ],
      "execution_count": 15,
      "outputs": [
        {
          "output_type": "stream",
          "text": [
            "Sort() time :  0.043898820877075195\n"
          ],
          "name": "stdout"
        }
      ]
    }
  ]
}